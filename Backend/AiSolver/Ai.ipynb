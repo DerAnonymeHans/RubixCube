{
 "cells": [
  {
   "cell_type": "code",
   "execution_count": 30,
   "metadata": {},
   "outputs": [],
   "source": [
    "import pandas as pd\n",
    "\n",
    "train_data = pd.read_csv(\"../Data/train_data.csv\")\n",
    "test_data = pd.read_csv(\"../Data/test_data.csv\")"
   ]
  },
  {
   "cell_type": "code",
   "execution_count": 31,
   "metadata": {},
   "outputs": [],
   "source": [
    "x_train = train_data.drop(columns=[\"Move\"])\n",
    "x_test = test_data.drop(columns=[\"Move\"])"
   ]
  },
  {
   "cell_type": "code",
   "execution_count": 32,
   "metadata": {},
   "outputs": [],
   "source": [
    "y_train = train_data[\"Move\"]\n",
    "y_test = test_data[\"Move\"]"
   ]
  },
  {
   "cell_type": "code",
   "execution_count": 91,
   "metadata": {},
   "outputs": [],
   "source": [
    "import tensorflow as tf\n",
    "\n",
    "model = tf.keras.models.Sequential([\n",
    "   tf.keras.layers.Flatten(),\n",
    "   tf.keras.layers.Dense(800, activation='relu'),\n",
    "   tf.keras.layers.Dense(800, activation='relu'),\n",
    "   tf.keras.layers.Dense(800, activation='relu'),\n",
    "   tf.keras.layers.Dropout(0.2),\n",
    "   tf.keras.layers.Dense(18, activation='softmax')\n",
    "])"
   ]
  },
  {
   "cell_type": "code",
   "execution_count": 92,
   "metadata": {},
   "outputs": [],
   "source": [
    "model.compile(optimizer='adam', loss='sparse_categorical_crossentropy', metrics='accuracy')"
   ]
  },
  {
   "cell_type": "code",
   "execution_count": 93,
   "metadata": {},
   "outputs": [
    {
     "name": "stdout",
     "output_type": "stream",
     "text": [
      "7355/7355 [==============================] - 44s 6ms/step - loss: 2.5327 - accuracy: 0.1004\n"
     ]
    },
    {
     "data": {
      "text/plain": [
       "<keras.src.callbacks.History at 0x27fbc2dad50>"
      ]
     },
     "execution_count": 93,
     "metadata": {},
     "output_type": "execute_result"
    }
   ],
   "source": [
    "model.fit(x_train, y_train, epochs=1)"
   ]
  },
  {
   "cell_type": "code",
   "execution_count": 94,
   "metadata": {},
   "outputs": [
    {
     "name": "stdout",
     "output_type": "stream",
     "text": [
      "7345/7345 [==============================] - 8s 1ms/step - loss: 2.4964 - accuracy: 0.0906\n"
     ]
    },
    {
     "data": {
      "text/plain": [
       "[2.4963600635528564, 0.09063869714736938]"
      ]
     },
     "execution_count": 94,
     "metadata": {},
     "output_type": "execute_result"
    }
   ],
   "source": [
    "model.evaluate(x_test, y_test)"
   ]
  },
  {
   "cell_type": "code",
   "execution_count": 95,
   "metadata": {},
   "outputs": [
    {
     "name": "stdout",
     "output_type": "stream",
     "text": [
      "1/1 [==============================] - 0s 52ms/step\n"
     ]
    },
    {
     "data": {
      "text/plain": [
       "1"
      ]
     },
     "execution_count": 95,
     "metadata": {},
     "output_type": "execute_result"
    }
   ],
   "source": [
    "prediction = model.predict([[\n",
    "3, 3, 3, 0, 0, 0, 0, 0, 3, 3, 5, 1, 2, 2, 2, 0, 4, 4, 4, 2, 5, 3, 3, 2, 0, 1, 1, 5, 4, 4, 4, 3, 2, 2, 2, 4, 1, 1, 0, 4, 5, 5, 1, 1, 1, 5, 5, 5\n",
    "   ] ])\n",
    "\n",
    "int(prediction[0][0] * 18)\n",
    "\n",
    "# i = 0\n",
    "# p_of_best_move = 0\n",
    "# best_move = 0\n",
    "# for p in prediction[0]:\n",
    "#    if p > p_of_best_move:\n",
    "#       best_move = i\n",
    "#       p_of_best_move = p\n",
    "#    i += 1\n",
    "\n",
    "# (best_move, p_of_best_move)"
   ]
  }
 ],
 "metadata": {
  "kernelspec": {
   "display_name": "Python 3",
   "language": "python",
   "name": "python3"
  },
  "language_info": {
   "codemirror_mode": {
    "name": "ipython",
    "version": 3
   },
   "file_extension": ".py",
   "mimetype": "text/x-python",
   "name": "python",
   "nbconvert_exporter": "python",
   "pygments_lexer": "ipython3",
   "version": "3.11.0"
  }
 },
 "nbformat": 4,
 "nbformat_minor": 2
}
